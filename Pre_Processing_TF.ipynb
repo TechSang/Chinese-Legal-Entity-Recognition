{
  "nbformat": 4,
  "nbformat_minor": 0,
  "metadata": {
    "colab": {
      "name": "Pre-Processing_w2c.ipynb",
      "provenance": [],
      "collapsed_sections": [],
      "toc_visible": true,
      "machine_shape": "hm"
    },
    "kernelspec": {
      "name": "python3",
      "display_name": "Python 3"
    }
  },
  "cells": [
    {
      "cell_type": "markdown",
      "metadata": {
        "id": "Pia8Am5rQ8Hp",
        "colab_type": "text"
      },
      "source": [
        "# 2 Show Dataset"
      ]
    },
    {
      "cell_type": "code",
      "metadata": {
        "id": "tAfizr6AVjvM",
        "colab_type": "code",
        "outputId": "e712c767-9ae4-46c4-c85f-7b565c2f1abd",
        "colab": {
          "base_uri": "https://localhost:8080/",
          "height": 52
        }
      },
      "source": [
        "!nvidia-smi"
      ],
      "execution_count": 0,
      "outputs": [
        {
          "output_type": "stream",
          "text": [
            "NVIDIA-SMI has failed because it couldn't communicate with the NVIDIA driver. Make sure that the latest NVIDIA driver is installed and running.\n",
            "\n"
          ],
          "name": "stdout"
        }
      ]
    },
    {
      "cell_type": "markdown",
      "metadata": {
        "id": "FnwuL0NuRBDg",
        "colab_type": "text"
      },
      "source": [
        "## 2.1 Read the Dataset"
      ]
    },
    {
      "cell_type": "code",
      "metadata": {
        "id": "nNCzot0BRdtm",
        "colab_type": "code",
        "outputId": "97bcf800-74b2-4414-906b-ae66cb9a17c6",
        "colab": {
          "base_uri": "https://localhost:8080/",
          "height": 35
        }
      },
      "source": [
        "from google.colab import drive\n",
        "drive.mount('/content/drive')\n",
        "\n",
        "false = False\n",
        "true = True"
      ],
      "execution_count": 0,
      "outputs": [
        {
          "output_type": "stream",
          "text": [
            "Drive already mounted at /content/drive; to attempt to forcibly remount, call drive.mount(\"/content/drive\", force_remount=True).\n"
          ],
          "name": "stdout"
        }
      ]
    },
    {
      "cell_type": "code",
      "metadata": {
        "id": "yTdbluBG1-Oe",
        "colab_type": "code",
        "colab": {}
      },
      "source": [
        "import pandas as pd\n",
        "import numpy as np"
      ],
      "execution_count": 0,
      "outputs": []
    },
    {
      "cell_type": "code",
      "metadata": {
        "id": "4OlpRmW9kr4S",
        "colab_type": "code",
        "colab": {}
      },
      "source": [
        "# Read the formated dataset\n",
        "\n",
        "train = pd.read_csv('/content/drive/My Drive/WORKS/data/Dataset/train.csv')\n",
        "test = pd.read_csv('/content/drive/My Drive/WORKS/data/Dataset/test.csv')\n",
        "valid = pd.read_csv('/content/drive/My Drive/WORKS/data/Dataset/valid.csv')\n",
        "tryset = pd.read_csv('/content/drive/My Drive/WORKS/data/Dataset/try.csv')"
      ],
      "execution_count": 0,
      "outputs": []
    },
    {
      "cell_type": "markdown",
      "metadata": {
        "id": "xADOgM6fRtqQ",
        "colab_type": "text"
      },
      "source": [
        "## 2.2 Show Dataset"
      ]
    },
    {
      "cell_type": "code",
      "metadata": {
        "id": "W05mOWHukz7R",
        "colab_type": "code",
        "outputId": "07b35245-c94b-4898-b432-0c4103730ce8",
        "colab": {
          "base_uri": "https://localhost:8080/",
          "height": 194
        }
      },
      "source": [
        "valid.head()"
      ],
      "execution_count": 0,
      "outputs": [
        {
          "output_type": "execute_result",
          "data": {
            "text/html": [
              "<div>\n",
              "<style scoped>\n",
              "    .dataframe tbody tr th:only-of-type {\n",
              "        vertical-align: middle;\n",
              "    }\n",
              "\n",
              "    .dataframe tbody tr th {\n",
              "        vertical-align: top;\n",
              "    }\n",
              "\n",
              "    .dataframe thead th {\n",
              "        text-align: right;\n",
              "    }\n",
              "</style>\n",
              "<table border=\"1\" class=\"dataframe\">\n",
              "  <thead>\n",
              "    <tr style=\"text-align: right;\">\n",
              "      <th></th>\n",
              "      <th>fact</th>\n",
              "      <th>accusation</th>\n",
              "      <th>criminals</th>\n",
              "      <th>punish_of_money</th>\n",
              "      <th>relevant_articles</th>\n",
              "      <th>death_penalty</th>\n",
              "      <th>imprisonment</th>\n",
              "      <th>life_imprisonment</th>\n",
              "    </tr>\n",
              "  </thead>\n",
              "  <tbody>\n",
              "    <tr>\n",
              "      <th>0</th>\n",
              "      <td>公诉机关起诉指控，被告人张某某秘密窃取他人财物，价值2210元，××数额较大，其行为已触犯《...</td>\n",
              "      <td>['盗窃']</td>\n",
              "      <td>['张某某']</td>\n",
              "      <td>0</td>\n",
              "      <td>[264]</td>\n",
              "      <td>False</td>\n",
              "      <td>2</td>\n",
              "      <td>False</td>\n",
              "    </tr>\n",
              "    <tr>\n",
              "      <th>1</th>\n",
              "      <td>孝昌县人民检察院指控：2014年1月4日，被告人邬某在孝昌县城区2路公交车上××被害人晏某白...</td>\n",
              "      <td>['盗窃']</td>\n",
              "      <td>['邬某']</td>\n",
              "      <td>1000</td>\n",
              "      <td>[264]</td>\n",
              "      <td>False</td>\n",
              "      <td>4</td>\n",
              "      <td>False</td>\n",
              "    </tr>\n",
              "    <tr>\n",
              "      <th>2</th>\n",
              "      <td>广东省广州市南沙区人民检察院指控被告人罗某于2015年6月2日到广州市南沙区大岗镇人民路宇航...</td>\n",
              "      <td>['盗窃']</td>\n",
              "      <td>['罗某']</td>\n",
              "      <td>2000</td>\n",
              "      <td>[264]</td>\n",
              "      <td>False</td>\n",
              "      <td>9</td>\n",
              "      <td>False</td>\n",
              "    </tr>\n",
              "    <tr>\n",
              "      <th>3</th>\n",
              "      <td>公诉机关指控，2016年3月3日18时许，被告人易某某行至达州市通川区大观园公交车站附近，扒...</td>\n",
              "      <td>['盗窃']</td>\n",
              "      <td>['易某某']</td>\n",
              "      <td>1000</td>\n",
              "      <td>[264]</td>\n",
              "      <td>False</td>\n",
              "      <td>7</td>\n",
              "      <td>False</td>\n",
              "    </tr>\n",
              "    <tr>\n",
              "      <th>4</th>\n",
              "      <td>公诉机关指控：1.2015年8月20日晚上，被告人胡某甲至杭州市淳安县千岛湖镇新安东路112...</td>\n",
              "      <td>['盗窃']</td>\n",
              "      <td>['胡某甲']</td>\n",
              "      <td>0</td>\n",
              "      <td>[264]</td>\n",
              "      <td>False</td>\n",
              "      <td>7</td>\n",
              "      <td>False</td>\n",
              "    </tr>\n",
              "  </tbody>\n",
              "</table>\n",
              "</div>"
            ],
            "text/plain": [
              "                                                fact  ... life_imprisonment\n",
              "0  公诉机关起诉指控，被告人张某某秘密窃取他人财物，价值2210元，××数额较大，其行为已触犯《...  ...             False\n",
              "1  孝昌县人民检察院指控：2014年1月4日，被告人邬某在孝昌县城区2路公交车上××被害人晏某白...  ...             False\n",
              "2  广东省广州市南沙区人民检察院指控被告人罗某于2015年6月2日到广州市南沙区大岗镇人民路宇航...  ...             False\n",
              "3  公诉机关指控，2016年3月3日18时许，被告人易某某行至达州市通川区大观园公交车站附近，扒...  ...             False\n",
              "4  公诉机关指控：1.2015年8月20日晚上，被告人胡某甲至杭州市淳安县千岛湖镇新安东路112...  ...             False\n",
              "\n",
              "[5 rows x 8 columns]"
            ]
          },
          "metadata": {
            "tags": []
          },
          "execution_count": 5
        }
      ]
    },
    {
      "cell_type": "code",
      "metadata": {
        "id": "cZxcc1ZZBDc4",
        "colab_type": "code",
        "outputId": "768a6b4e-20de-4f39-aa6a-fe793fa5e770",
        "colab": {
          "base_uri": "https://localhost:8080/",
          "height": 55
        }
      },
      "source": [
        "train.fact[1]"
      ],
      "execution_count": 0,
      "outputs": [
        {
          "output_type": "execute_result",
          "data": {
            "text/plain": [
              "'公诉机关指控,2015年11月10日晚9时许，被告人李某的妹妹李某某与被害人华某某在桦川县悦来镇石锅烤肉吃饭时发生口角，华某某殴打李某某被他人拉开。后李某某打电话将此事告知李某。李某便开车接上李某某在悦来镇“0454饮吧”找到华某某并质问其因何殴打李某某，之后二人厮打在一起。李某用拳头、巴掌连续击打华某某脸部，致华受伤住院治疗。经桦川县公安局司法鉴定，华某某所受伤为轻伤二级。'"
            ]
          },
          "metadata": {
            "tags": []
          },
          "execution_count": 6
        }
      ]
    },
    {
      "cell_type": "code",
      "metadata": {
        "id": "D_NF0U9MshPr",
        "colab_type": "code",
        "outputId": "955a30f0-c75b-47ba-ed6d-2e672659a3ed",
        "colab": {
          "base_uri": "https://localhost:8080/",
          "height": 509
        }
      },
      "source": [
        "train.tail(10)"
      ],
      "execution_count": 0,
      "outputs": [
        {
          "output_type": "execute_result",
          "data": {
            "text/html": [
              "<div>\n",
              "<style scoped>\n",
              "    .dataframe tbody tr th:only-of-type {\n",
              "        vertical-align: middle;\n",
              "    }\n",
              "\n",
              "    .dataframe tbody tr th {\n",
              "        vertical-align: top;\n",
              "    }\n",
              "\n",
              "    .dataframe thead th {\n",
              "        text-align: right;\n",
              "    }\n",
              "</style>\n",
              "<table border=\"1\" class=\"dataframe\">\n",
              "  <thead>\n",
              "    <tr style=\"text-align: right;\">\n",
              "      <th></th>\n",
              "      <th>fact</th>\n",
              "      <th>accusation</th>\n",
              "      <th>criminals</th>\n",
              "      <th>punish_of_money</th>\n",
              "      <th>relevant_articles</th>\n",
              "      <th>death_penalty</th>\n",
              "      <th>imprisonment</th>\n",
              "      <th>life_imprisonment</th>\n",
              "    </tr>\n",
              "  </thead>\n",
              "  <tbody>\n",
              "    <tr>\n",
              "      <th>154581</th>\n",
              "      <td>经审理查明：2017年5月11日凌晨，被告人胡3某在永康市象珠镇官川村的池塘及周边农田抓获虎...</td>\n",
              "      <td>['非法[猎捕、杀害][珍贵、濒危]野生动物']</td>\n",
              "      <td>['胡3某']</td>\n",
              "      <td>5000</td>\n",
              "      <td>[341]</td>\n",
              "      <td>False</td>\n",
              "      <td>18</td>\n",
              "      <td>False</td>\n",
              "    </tr>\n",
              "    <tr>\n",
              "      <th>154582</th>\n",
              "      <td>公诉机关指控，2015年12月下旬某日，青海省尖扎县人旦某（在逃）伙同被告人才某、朋毛才某为...</td>\n",
              "      <td>['非法[猎捕、杀害][珍贵、濒危]野生动物']</td>\n",
              "      <td>['才某']</td>\n",
              "      <td>0</td>\n",
              "      <td>[341]</td>\n",
              "      <td>False</td>\n",
              "      <td>27</td>\n",
              "      <td>False</td>\n",
              "    </tr>\n",
              "    <tr>\n",
              "      <th>154583</th>\n",
              "      <td>公诉机关指控，2016年4月中旬至2016年5月初，被告人袁某伙同范某1（另处）、范某2（另...</td>\n",
              "      <td>['非法[猎捕、杀害][珍贵、濒危]野生动物']</td>\n",
              "      <td>['袁某']</td>\n",
              "      <td>1000</td>\n",
              "      <td>[341]</td>\n",
              "      <td>False</td>\n",
              "      <td>12</td>\n",
              "      <td>False</td>\n",
              "    </tr>\n",
              "    <tr>\n",
              "      <th>154584</th>\n",
              "      <td>经审理查明，2014年1月27日，河南省林业厅发布通告，决定在河南省境内对所有野生鸟类实行禁...</td>\n",
              "      <td>['非法狩猎']</td>\n",
              "      <td>['李某']</td>\n",
              "      <td>0</td>\n",
              "      <td>[341]</td>\n",
              "      <td>False</td>\n",
              "      <td>6</td>\n",
              "      <td>False</td>\n",
              "    </tr>\n",
              "    <tr>\n",
              "      <th>154585</th>\n",
              "      <td>经审理查明，2015年10月30日傍晚，被告人陈某驾驶摩托车，携带照明灯具，牵引猎狗，到达嘉...</td>\n",
              "      <td>['非法狩猎']</td>\n",
              "      <td>['陈某']</td>\n",
              "      <td>3000</td>\n",
              "      <td>[341]</td>\n",
              "      <td>False</td>\n",
              "      <td>0</td>\n",
              "      <td>False</td>\n",
              "    </tr>\n",
              "    <tr>\n",
              "      <th>154586</th>\n",
              "      <td>经审理查明，2013年9月，被告人黄某从一陌生人处购得猎捕工具“电猫”一台，随即于每年的农历...</td>\n",
              "      <td>['非法狩猎']</td>\n",
              "      <td>['黄某']</td>\n",
              "      <td>0</td>\n",
              "      <td>[341]</td>\n",
              "      <td>False</td>\n",
              "      <td>12</td>\n",
              "      <td>False</td>\n",
              "    </tr>\n",
              "    <tr>\n",
              "      <th>154587</th>\n",
              "      <td>歙县人民检察院指控：被告人叶某违反狩猎法规，在禁猎期内使用禁用的方法，猎捕安徽省二级保护的野...</td>\n",
              "      <td>['非法狩猎']</td>\n",
              "      <td>['叶某']</td>\n",
              "      <td>0</td>\n",
              "      <td>[341]</td>\n",
              "      <td>False</td>\n",
              "      <td>0</td>\n",
              "      <td>False</td>\n",
              "    </tr>\n",
              "    <tr>\n",
              "      <th>154588</th>\n",
              "      <td>永平县人民检察院指控：2017年4月10日，被告人江天某携带单管猎枪、录音机等工具到永平县杉...</td>\n",
              "      <td>['非法[持有、私藏][枪支、弹药]', '非法[猎捕、杀害][珍贵、濒危]野生动物']</td>\n",
              "      <td>['江天某']</td>\n",
              "      <td>10000</td>\n",
              "      <td>[341, 128]</td>\n",
              "      <td>False</td>\n",
              "      <td>30</td>\n",
              "      <td>False</td>\n",
              "    </tr>\n",
              "    <tr>\n",
              "      <th>154589</th>\n",
              "      <td>神农架林区人民检察院指控：2015年11月中旬至12月，被告人朱某在神农架林区红坪镇红举村“...</td>\n",
              "      <td>['非法[猎捕、杀害][珍贵、濒危]野生动物']</td>\n",
              "      <td>['朱某']</td>\n",
              "      <td>4000</td>\n",
              "      <td>[341]</td>\n",
              "      <td>False</td>\n",
              "      <td>48</td>\n",
              "      <td>False</td>\n",
              "    </tr>\n",
              "    <tr>\n",
              "      <th>154590</th>\n",
              "      <td>经审理查明：2014年8月25日晚19时至次日凌晨3时许，被告人黄某甲到江苏省沭阳县扎下镇明...</td>\n",
              "      <td>['非法狩猎']</td>\n",
              "      <td>['黄某甲']</td>\n",
              "      <td>0</td>\n",
              "      <td>[341]</td>\n",
              "      <td>False</td>\n",
              "      <td>0</td>\n",
              "      <td>False</td>\n",
              "    </tr>\n",
              "  </tbody>\n",
              "</table>\n",
              "</div>"
            ],
            "text/plain": [
              "                                                     fact  ... life_imprisonment\n",
              "154581  经审理查明：2017年5月11日凌晨，被告人胡3某在永康市象珠镇官川村的池塘及周边农田抓获虎...  ...             False\n",
              "154582  公诉机关指控，2015年12月下旬某日，青海省尖扎县人旦某（在逃）伙同被告人才某、朋毛才某为...  ...             False\n",
              "154583  公诉机关指控，2016年4月中旬至2016年5月初，被告人袁某伙同范某1（另处）、范某2（另...  ...             False\n",
              "154584  经审理查明，2014年1月27日，河南省林业厅发布通告，决定在河南省境内对所有野生鸟类实行禁...  ...             False\n",
              "154585  经审理查明，2015年10月30日傍晚，被告人陈某驾驶摩托车，携带照明灯具，牵引猎狗，到达嘉...  ...             False\n",
              "154586  经审理查明，2013年9月，被告人黄某从一陌生人处购得猎捕工具“电猫”一台，随即于每年的农历...  ...             False\n",
              "154587  歙县人民检察院指控：被告人叶某违反狩猎法规，在禁猎期内使用禁用的方法，猎捕安徽省二级保护的野...  ...             False\n",
              "154588  永平县人民检察院指控：2017年4月10日，被告人江天某携带单管猎枪、录音机等工具到永平县杉...  ...             False\n",
              "154589  神农架林区人民检察院指控：2015年11月中旬至12月，被告人朱某在神农架林区红坪镇红举村“...  ...             False\n",
              "154590  经审理查明：2014年8月25日晚19时至次日凌晨3时许，被告人黄某甲到江苏省沭阳县扎下镇明...  ...             False\n",
              "\n",
              "[10 rows x 8 columns]"
            ]
          },
          "metadata": {
            "tags": []
          },
          "execution_count": 7
        }
      ]
    },
    {
      "cell_type": "code",
      "metadata": {
        "id": "nYNwad_HGE-i",
        "colab_type": "code",
        "outputId": "5fbe0884-5b91-4f68-de02-0c96411c084c",
        "colab": {
          "base_uri": "https://localhost:8080/",
          "height": 417
        }
      },
      "source": [
        "from yellowbrick.target import ClassBalance\n",
        "import numpy as np\n",
        "\n",
        "visualizer = ClassBalance(labels=[\"True\", \"False\"])\n",
        "visualizer.fit(train.death_penalty)\n",
        "visualizer.poof()"
      ],
      "execution_count": 0,
      "outputs": [
        {
          "output_type": "stream",
          "text": [
            "/usr/local/lib/python3.6/dist-packages/sklearn/utils/deprecation.py:144: FutureWarning: The sklearn.metrics.classification module is  deprecated in version 0.22 and will be removed in version 0.24. The corresponding classes / functions should instead be imported from sklearn.metrics. Anything that cannot be imported from sklearn.metrics is now part of the private API.\n",
            "  warnings.warn(message, FutureWarning)\n"
          ],
          "name": "stderr"
        },
        {
          "output_type": "display_data",
          "data": {
            "image/png": "[encoded data removed]",
            "text/plain": [
              "<Figure size 576x396 with 1 Axes>"
            ]
          },
          "metadata": {
            "tags": []
          }
        }
      ]
    },
    {
      "cell_type": "markdown",
      "metadata": {
        "id": "R_M8Yt1S58zV",
        "colab_type": "text"
      },
      "source": [
        "# 3 Label the Dataset by BIO"
      ]
    },
    {
      "cell_type": "markdown",
      "metadata": {
        "id": "6UOg0CplR9t-",
        "colab_type": "text"
      },
      "source": [
        "## 3.1 Clean the Dataset"
      ]
    },
    {
      "cell_type": "markdown",
      "metadata": {
        "id": "c04wt5s_SGDK",
        "colab_type": "text"
      },
      "source": [
        "### 3.1.1 Set the stopwprds"
      ]
    },
    {
      "cell_type": "code",
      "metadata": {
        "id": "JPi_DSDu6B19",
        "colab_type": "code",
        "colab": {}
      },
      "source": [
        "stopwordsList = [line.strip() for line in open('/content/drive/My Drive/WORKS/data/ChineseSW.txt',encoding='UTF-8').readlines()]"
      ],
      "execution_count": 0,
      "outputs": []
    },
    {
      "cell_type": "markdown",
      "metadata": {
        "id": "N2OyGGkjSIMX",
        "colab_type": "text"
      },
      "source": [
        "### 3.1.2 Prepare data"
      ]
    },
    {
      "cell_type": "markdown",
      "metadata": {
        "id": "B8ss6wXlTDSZ",
        "colab_type": "text"
      },
      "source": [
        "* Remove irrelvant words"
      ]
    },
    {
      "cell_type": "code",
      "metadata": {
        "id": "kFE-UC7N7-yf",
        "colab_type": "code",
        "colab": {}
      },
      "source": [
        "# Split text by keywords and remove irrelvant words\n",
        "def cleanText(texts, stopwords):\n",
        "  newList = []\n",
        "\n",
        "  for doc in texts:\n",
        "    newList.append([token for token in doc if (token not in stopwords)])\n",
        "    \n",
        "  return newList"
      ],
      "execution_count": 0,
      "outputs": []
    },
    {
      "cell_type": "markdown",
      "metadata": {
        "id": "vUF8JRN9bPMN",
        "colab_type": "text"
      },
      "source": [
        "* Construct Criminal Suspects, Accusations Lists"
      ]
    },
    {
      "cell_type": "code",
      "metadata": {
        "id": "SswRjpK_a7If",
        "colab_type": "code",
        "colab": {}
      },
      "source": [
        "# Read Chinese name dataset\n",
        "f1 = open(\"/content/drive/My Drive/WORKS/data/Names.txt\",\"r\")\n",
        "names = f1.read()\n",
        "f1.close() \n",
        "names=\"\".join(names.split())"
      ],
      "execution_count": 0,
      "outputs": []
    },
    {
      "cell_type": "code",
      "metadata": {
        "id": "9lCuwPKDhy3N",
        "colab_type": "code",
        "colab": {}
      },
      "source": [
        "# Read accusation dataset\n",
        "accList = []\n",
        "for line in open(\"/content/drive/My Drive/WORKS/data/Accusations.txt\",\"r\"): \n",
        "  accList.append(line.replace('\\n', '').replace('\\r', ''))"
      ],
      "execution_count": 0,
      "outputs": []
    },
    {
      "cell_type": "code",
      "metadata": {
        "id": "cwDOqlUVa_tm",
        "colab_type": "code",
        "colab": {}
      },
      "source": [
        "#Build criminals dataset\n",
        "def constructCri(str):\n",
        "  criList = []\n",
        "  for i in str:\n",
        "    criList.append(i+'某')\n",
        "    criList.append(i+'某某')\n",
        "    criList.append(i+'XX')\n",
        "    criList.append(i+'××')\n",
        "    criList.append(i+'某X')\n",
        "\n",
        "  return criList"
      ],
      "execution_count": 0,
      "outputs": []
    },
    {
      "cell_type": "code",
      "metadata": {
        "id": "7XK2ECQLbKF-",
        "colab_type": "code",
        "colab": {}
      },
      "source": [
        "nameList = constructCri(names)"
      ],
      "execution_count": 0,
      "outputs": []
    },
    {
      "cell_type": "markdown",
      "metadata": {
        "id": "ORbrR2Zt_uiL",
        "colab_type": "text"
      },
      "source": [
        "* Construct Other Legal Terms"
      ]
    },
    {
      "cell_type": "code",
      "metadata": {
        "id": "sT7tZ9hU_1vr",
        "colab_type": "code",
        "colab": {}
      },
      "source": [
        "# Read other legal items\n",
        "legalTerms=[]\n",
        "for line in open(\"/content/drive/My Drive/WORKS/data/LegalTerms.txt\",\"r\"): \n",
        "  legalTerms.append(line.replace('\\n', '').replace('\\r', ''))"
      ],
      "execution_count": 0,
      "outputs": []
    },
    {
      "cell_type": "markdown",
      "metadata": {
        "id": "7mqYsTEeSXr4",
        "colab_type": "text"
      },
      "source": [
        "### 3.1.3 Run the functions"
      ]
    },
    {
      "cell_type": "code",
      "metadata": {
        "id": "1EU6jaVV56iD",
        "colab_type": "code",
        "colab": {}
      },
      "source": [
        "stopwords = \"【】'[]（）():;：；\"\n",
        "# Clean test data\n",
        "cleanedtAccText = cleanText(test.accusation, stopwords)\n",
        "cleanedtCriText = cleanText(test.criminals, stopwords)\n",
        "\n",
        "# Clean valid data\n",
        "cleanedvAccText = cleanText(valid.accusation, stopwords)\n",
        "cleanedvCriText = cleanText(valid.criminals, stopwords)\n",
        "\n",
        "# Clean train data\n",
        "cleanedAccText = cleanText(train.accusation, stopwords)\n",
        "cleanedCriText = cleanText(train.criminals, stopwords)"
      ],
      "execution_count": 0,
      "outputs": []
    },
    {
      "cell_type": "markdown",
      "metadata": {
        "id": "8nM0XnAkS02J",
        "colab_type": "text"
      },
      "source": [
        "## 3.2 Sort out the Key Words\n",
        "### 3.2.1 Intergration"
      ]
    },
    {
      "cell_type": "code",
      "metadata": {
        "id": "1yJU6CjnQXgu",
        "colab_type": "code",
        "colab": {}
      },
      "source": [
        "# intergrate the text that after extract\n",
        "def integrate(list1):\n",
        "  d = []\n",
        "  for i in range (len(list1)):\n",
        "    d += (\"\".join(list1[i])).split(',')\n",
        "\n",
        "  d =list(set(d))\n",
        "  return d"
      ],
      "execution_count": 0,
      "outputs": []
    },
    {
      "cell_type": "code",
      "metadata": {
        "id": "eDFCfyhBQbVw",
        "colab_type": "code",
        "colab": {}
      },
      "source": [
        "# Test data\n",
        "tacc = list(set(integrate(cleanedtAccText)+accList))\n",
        "tcri = list(set(integrate(cleanedtCriText)+nameList))\n",
        "\n",
        "# Valid data\n",
        "vacc = list(set(integrate(cleanedvAccText)+accList))\n",
        "vcri = list(set(integrate(cleanedvCriText)+nameList))\n",
        "\n",
        "# Train data\n",
        "trainacc = list(set(integrate(cleanedAccText)+accList))\n",
        "traincri = list(set(integrate(cleanedCriText)+nameList))"
      ],
      "execution_count": 0,
      "outputs": []
    },
    {
      "cell_type": "markdown",
      "metadata": {
        "id": "YQWjEE8GTgdv",
        "colab_type": "text"
      },
      "source": [
        "### 3.2.2 Store the Intermediary Data"
      ]
    },
    {
      "cell_type": "code",
      "metadata": {
        "id": "ZiPrGtvIPxKs",
        "colab_type": "code",
        "colab": {}
      },
      "source": [
        "import csv\n",
        "\n",
        "def storeData(headers,d1,d2,filePath):\n",
        "  f = open(filePath,'w',newline='',encoding=\"utf-8\")\n",
        "  fwrite = csv.writer(f) \n",
        "  fwrite.writerow(headers) #write column name\n",
        "\n",
        "  if (d2 == 0): \n",
        "  # Judge whether input need to be connected\n",
        "    for item in d1:\n",
        "      fwrite.writerow([item])\n",
        "  else: \n",
        "    for item in range(len(d1)):\n",
        "      fwrite.writerow((d1[item],d2[item]))\n",
        "      \n",
        "  f.close()"
      ],
      "execution_count": 0,
      "outputs": []
    },
    {
      "cell_type": "code",
      "metadata": {
        "colab_type": "code",
        "id": "CBf4gZbLf39F",
        "colab": {}
      },
      "source": [
        "path = '/content/drive/My Drive/WORKS/data/Method2/'\n",
        "\n",
        "# Store test data in csv format \n",
        "acc = list(set(tacc+vacc+trainacc))\n",
        "cri = list(set(tcri+vcri+traincri))\n",
        "storeData(['Accusations'],acc,0,(path+'Accusations.csv'))\n",
        "storeData(['Criminals'],cri,0,(path+'Criminals.csv'))"
      ],
      "execution_count": 0,
      "outputs": []
    },
    {
      "cell_type": "markdown",
      "metadata": {
        "id": "8M0qEIz0TtNl",
        "colab_type": "text"
      },
      "source": [
        "### 3.2.3 Show Results"
      ]
    },
    {
      "cell_type": "code",
      "metadata": {
        "id": "fSAuQni7Y0CX",
        "colab_type": "code",
        "colab": {}
      },
      "source": [
        "# Read keyword text in test dataset\n",
        "cri = list(pd.read_csv(path+'Criminals.csv').Criminals)\n",
        "acc = list(pd.read_csv(path+'Accusations.csv').Accusations)"
      ],
      "execution_count": 0,
      "outputs": []
    },
    {
      "cell_type": "markdown",
      "metadata": {
        "id": "4EP1zYdkSbiJ",
        "colab_type": "text"
      },
      "source": [
        "## 3.3 Labeling"
      ]
    },
    {
      "cell_type": "markdown",
      "metadata": {
        "id": "4rOW0lcmUf3o",
        "colab_type": "text"
      },
      "source": [
        "### 3.3.1 Give Tags to Key Words"
      ]
    },
    {
      "cell_type": "markdown",
      "metadata": {
        "id": "X_XHQPNXI7S8",
        "colab_type": "text"
      },
      "source": [
        "* Build tfidf Model base on legalItems"
      ]
    },
    {
      "cell_type": "code",
      "metadata": {
        "id": "vyQfqS9qeJZu",
        "colab_type": "code",
        "colab": {}
      },
      "source": [
        "from gensim import corpora\n",
        "from gensim.corpora import Dictionary\n",
        "from gensim.models import TfidfModel\n",
        "from jieba import lcut\n",
        "import jieba"
      ],
      "execution_count": 0,
      "outputs": []
    },
    {
      "cell_type": "code",
      "metadata": {
        "id": "tbyUFrZvpey4",
        "colab_type": "code",
        "colab": {}
      },
      "source": [
        "pathTF = '/content/drive/My Drive/WORKS/data/Method2/TDModels/'\n",
        "\n",
        "def buildDict(texts,category):\n",
        "  # jieba participle\n",
        "  jieba.load_userdict(texts)\n",
        "  texts = [lcut(text) for text in texts]\n",
        "\n",
        "  # Generate dictionary\n",
        "  dictionary = Dictionary(texts)\n",
        "  dictionary.save(pathTF+category+'Dict.dict') \n",
        "  # Process corpus\n",
        "  corpus = [dictionary.doc2bow(text) for text in texts]\n",
        "  corpora.MmCorpus.serialize(pathTF+category+'Corpuse.mm',corpus)\n",
        "  # Generate tfidf model\n",
        "  tfidfModel = TfidfModel(corpus)\n",
        "  tfidfModel.save(pathTF+category+'_tfidfModel.model')"
      ],
      "execution_count": 0,
      "outputs": []
    },
    {
      "cell_type": "markdown",
      "metadata": {
        "id": "jLwe2Hl6U6-j",
        "colab_type": "text"
      },
      "source": [
        "* Labeling"
      ]
    },
    {
      "cell_type": "code",
      "metadata": {
        "id": "LAU4mvDLKyko",
        "colab_type": "code",
        "colab": {}
      },
      "source": [
        "def labelFacts(list,tag): \n",
        "# Label the text\n",
        "  listOut=[] \n",
        "  for i in range (len(list)):\n",
        "    if(tag==1):\n",
        "      listOut.append('O') # Other Words\n",
        "    else:\n",
        "      if i==0:\n",
        "        listOut.append('B-'+ tag) # Begin of Keywords    \n",
        "      else:\n",
        "        listOut.append('I-'+ tag) # Intermediate of Keywords\n",
        "\n",
        "  return listOut"
      ],
      "execution_count": 0,
      "outputs": []
    },
    {
      "cell_type": "markdown",
      "metadata": {
        "id": "4qP_mkSZU9oH",
        "colab_type": "text"
      },
      "source": [
        "* Compare with the Keywords List"
      ]
    },
    {
      "cell_type": "code",
      "metadata": {
        "id": "K_Nuu9JuMCFX",
        "colab_type": "code",
        "colab": {}
      },
      "source": [
        "from gensim import models,corpora\n",
        "from gensim.similarities import SparseMatrixSimilarity\n",
        "from jieba import lcut\n",
        "\n",
        "def getModel(modelName):\n",
        "  # Load models  \n",
        "  corpus = corpora.MmCorpus(pathTF+modelName+'Corpuse.mm')\n",
        "  dictionary = corpora.Dictionary.load(pathTF+modelName+'Dict.dict')\n",
        "  model = models.TfidfModel.load(pathTF+modelName+\"_tfidfModel.model\")\n",
        "\n",
        "  # Get SparseMatrixSimilarity of corpus\n",
        "  features = len(dictionary.token2id)\n",
        "  legalItemsTI = model[corpus]\n",
        "  sMSim = SparseMatrixSimilarity(legalItemsTI,features)\n",
        "\n",
        "  return dictionary,model,sMSim"
      ],
      "execution_count": 0,
      "outputs": []
    },
    {
      "cell_type": "code",
      "metadata": {
        "id": "AGSXs9GWexpI",
        "colab_type": "code",
        "colab": {}
      },
      "source": [
        "def simLabel(dut,dictionary,model,sMSim):\n",
        "  # Process determinands under test\n",
        "  wordVec = dictionary.doc2bow(lcut(dut))\n",
        "\n",
        "  # Calculate the similiarity\n",
        "  wordTI = model[wordVec]\n",
        "  similarities = sMSim.get_similarities(wordTI)\n",
        "\n",
        "  for sim in similarities:\n",
        "    if sim>0.55:\n",
        "      return True\n",
        "\n",
        "  return False"
      ],
      "execution_count": 0,
      "outputs": []
    },
    {
      "cell_type": "code",
      "metadata": {
        "id": "5_3yxd4dEsz8",
        "colab_type": "code",
        "colab": {}
      },
      "source": [
        "import jieba\n",
        "\n",
        "def factBIO(factText):\n",
        "# Label the fact with specific tags\n",
        "  labelList = []\n",
        "  facts=[]\n",
        "\n",
        "  # Load the entity dictionary\n",
        "  jieba.load_userdict(acc)\n",
        "  jieba.load_userdict(cri)\n",
        "  jieba.load_userdict(legalTerms)\n",
        "\n",
        "  # Load the similarity comparison\n",
        "  stopwords=stopwordsList\n",
        "  dictAcc,modelAcc,sMSimAcc = getModel('acc')\n",
        "  dictOLT,modelOLT,sMSimOLT = getModel('legalTerms')\n",
        "\n",
        "  for i in factText:\n",
        "    tokenizedText = jieba.lcut(i)\n",
        "    text = []\n",
        "    \n",
        "    for doc in tokenizedText:\n",
        "      text.append([token for token in doc if token not in stopwords])\n",
        "      \n",
        "    for j in text: # Classify keywords\n",
        "      j=''.join(j)\n",
        "      facts.extend(j)\n",
        "      if len(j) > 1:\n",
        "        # Check it whether is an Accusation\n",
        "        if simLabel(j,dictAcc,modelAcc,sMSimAcc):\n",
        "          labelList.extend(labelFacts(j,'ACC')) \n",
        "        # Check it whether is a Criminal\n",
        "        elif j in cri:\n",
        "          labelList.extend(labelFacts(j,'CRI')) \n",
        "        # Check it whether is the Other legal term\n",
        "        elif simLabel(j,dictOLT,modelOLT,sMSimOLT):\n",
        "          labelList.extend(labelFacts(j,'OLT')) \n",
        "        # Objects\n",
        "        else:\n",
        "          labelList.extend(labelFacts(j,1))\n",
        "      else:\n",
        "        labelList.extend(labelFacts(j,1))\n",
        "    \n",
        "  return facts,labelList"
      ],
      "execution_count": 0,
      "outputs": []
    },
    {
      "cell_type": "markdown",
      "metadata": {
        "id": "RuEM0tbDl9v0",
        "colab_type": "text"
      },
      "source": [
        "* Adjust similarity rate"
      ]
    },
    {
      "cell_type": "code",
      "metadata": {
        "id": "um6Bqzthm4vM",
        "colab_type": "code",
        "colab": {}
      },
      "source": [
        "dictOLT,modelOLT,sMSimOLT = getModel('acc')\n",
        "simLabel('故意传播虚假恐怖信息',dictOLT,modelOLT,sMSimOLT)\n",
        "dictOLT,modelOLT,sMSimOLT = getModel('legalTerms')\n",
        "simLabel('刑法',dictOLT,modelOLT,sMSimOLT)"
      ],
      "execution_count": 0,
      "outputs": []
    },
    {
      "cell_type": "markdown",
      "metadata": {
        "id": "xbEif2nvKVxm",
        "colab_type": "text"
      },
      "source": [
        "* Run functions"
      ]
    },
    {
      "cell_type": "code",
      "metadata": {
        "id": "zzJ4GNeedNBR",
        "colab_type": "code",
        "colab": {}
      },
      "source": [
        "buildDict(acc,'acc')\n",
        "buildDict(legalTerms,'legalTerms')"
      ],
      "execution_count": 0,
      "outputs": []
    },
    {
      "cell_type": "code",
      "metadata": {
        "id": "pQTRQgyUFjvW",
        "colab_type": "code",
        "colab": {}
      },
      "source": [
        "tfacts,tlabelList=factBIO(test.fact)\n",
        "vfacts,vlabelList=factBIO(valid.fact)\n",
        "trainfacts,trainlabelList=factBIO(train.fact)"
      ],
      "execution_count": 0,
      "outputs": []
    },
    {
      "cell_type": "markdown",
      "metadata": {
        "id": "I8i-MTl3UNYA",
        "colab_type": "text"
      },
      "source": [
        "### 3.3.2 Store the Result"
      ]
    },
    {
      "cell_type": "code",
      "metadata": {
        "id": "KgI-nF9C8x7A",
        "colab_type": "code",
        "colab": {}
      },
      "source": [
        "import os\n",
        "def storage(fileName,data,label):\n",
        "# Store data in (Fact+Label) format\n",
        "  with open(fileName,\"w\") as f:\n",
        "    for i in range(len(data)):\n",
        "      f.writelines(data[i]+' '+label[i])\n",
        "      f.writelines(\"\\n\")"
      ],
      "execution_count": 0,
      "outputs": []
    },
    {
      "cell_type": "code",
      "metadata": {
        "id": "-dTHGezu9iEM",
        "colab_type": "code",
        "colab": {}
      },
      "source": [
        "# Store in txt format\n",
        "storage((path+'try.txt'),tfacts,tlabelList)\n",
        "storage((path+'testLabeled.txt'),tfacts,tlabelList)\n",
        "storage((path+'validLabeled.txt'),vfacts,vlabelList)\n",
        "storage((path+'trainLabeled.txt'),trainfacts,trainlabelList)"
      ],
      "execution_count": 0,
      "outputs": []
    },
    {
      "cell_type": "code",
      "metadata": {
        "id": "knykl-oZ6TeI",
        "colab_type": "code",
        "colab": {}
      },
      "source": [
        "# Store in csv format\n",
        "storeData(['Facts','Label'],tfacts,tlabelList,(path+'testLabeled.csv'))\n",
        "storeData(['Facts','Label'],vfacts,vlabelList,(path+'validLabeled.csv'))\n",
        "storeData(['Facts','Label'],trainfacts,trainlabelList,(path+'trainLabeled.csv'))"
      ],
      "execution_count": 0,
      "outputs": []
    },
    {
      "cell_type": "markdown",
      "metadata": {
        "id": "kb_soSRmUVUj",
        "colab_type": "text"
      },
      "source": [
        "### 3.3.3 Show Labeled Result"
      ]
    },
    {
      "cell_type": "code",
      "metadata": {
        "id": "bcEvIk-8uFzX",
        "colab_type": "code",
        "colab": {}
      },
      "source": [
        "import pandas as pd\n",
        "import numpy as np\n",
        "\n",
        "# Read the formated dataset\n",
        "testLabeled = pd.read_csv('/content/drive/My Drive/WORKS/data/Method2/testLabeled.csv')\n",
        "validLabeled = pd.read_csv('/content/drive/My Drive/WORKS/data/Method2/validLabeled.csv')\n",
        "trainLabeled = pd.read_csv('/content/drive/My Drive/WORKS/data/Method2/trainLabeled.csv')"
      ],
      "execution_count": 0,
      "outputs": []
    },
    {
      "cell_type": "code",
      "metadata": {
        "id": "R7uV-fXOlw1-",
        "colab_type": "code",
        "colab": {}
      },
      "source": [
        "testLabeled.head(50)"
      ],
      "execution_count": 0,
      "outputs": []
    },
    {
      "cell_type": "code",
      "metadata": {
        "id": "TxIxMOoqHXY_",
        "colab_type": "code",
        "colab": {}
      },
      "source": [
        "validLabeled.head(50)"
      ],
      "execution_count": 0,
      "outputs": []
    },
    {
      "cell_type": "code",
      "metadata": {
        "id": "hbM4A-yoHv5f",
        "colab_type": "code",
        "colab": {}
      },
      "source": [
        "trainLabeled.head(50)"
      ],
      "execution_count": 0,
      "outputs": []
    }
  ]
}