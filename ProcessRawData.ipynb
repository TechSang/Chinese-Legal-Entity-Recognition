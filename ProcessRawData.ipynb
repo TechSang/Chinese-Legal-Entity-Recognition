{
  "nbformat": 4,
  "nbformat_minor": 0,
  "metadata": {
    "colab": {
      "name": "ProcessRawData.ipynb",
      "provenance": [],
      "collapsed_sections": []
    },
    "kernelspec": {
      "name": "python3",
      "display_name": "Python 3"
    }
  },
  "cells": [
    {
      "cell_type": "markdown",
      "metadata": {
        "id": "tuTm1gSgyJ7o",
        "colab_type": "text"
      },
      "source": [
        "# 1 Pre-Processing"
      ]
    },
    {
      "cell_type": "markdown",
      "metadata": {
        "id": "JuV7xURRPX48",
        "colab_type": "text"
      },
      "source": [
        "* Open the Google Drive  \n",
        "* Set the Default Value"
      ]
    },
    {
      "cell_type": "code",
      "metadata": {
        "id": "k2lI7U7UBvce",
        "colab_type": "code",
        "outputId": "1bc218a3-c116-4020-80d1-1951e301ffd4",
        "colab": {
          "base_uri": "https://localhost:8080/",
          "height": 126
        }
      },
      "source": [
        "from google.colab import drive\n",
        "drive.mount('/content/drive')\n",
        "\n",
        "false = False\n",
        "true = True"
      ],
      "execution_count": 0,
      "outputs": [
        {
          "output_type": "stream",
          "text": [
            "Go to this URL in a browser: https://accounts.google.com/o/oauth2/auth?client_id=947318989803-6bn6qk8qdgf4n4g3pfee6491hc0brc4i.apps.googleusercontent.com&redirect_uri=urn%3aietf%3awg%3aoauth%3a2.0%3aoob&response_type=code&scope=email%20https%3a%2f%2fwww.googleapis.com%2fauth%2fdocs.test%20https%3a%2f%2fwww.googleapis.com%2fauth%2fdrive%20https%3a%2f%2fwww.googleapis.com%2fauth%2fdrive.photos.readonly%20https%3a%2f%2fwww.googleapis.com%2fauth%2fpeopleapi.readonly\n",
            "\n",
            "Enter your authorization code:\n",
            "··········\n",
            "Mounted at /content/drive\n"
          ],
          "name": "stdout"
        }
      ]
    },
    {
      "cell_type": "markdown",
      "metadata": {
        "id": "5e7MNeWpyR_c",
        "colab_type": "text"
      },
      "source": [
        "## 1.1 Read the Dataset"
      ]
    },
    {
      "cell_type": "markdown",
      "metadata": {
        "id": "oykS9dCQPbSW",
        "colab_type": "text"
      },
      "source": [
        "* Read the Raw Data from Google Drive"
      ]
    },
    {
      "cell_type": "code",
      "metadata": {
        "id": "75SOt3iXFEJI",
        "colab_type": "code",
        "colab": {}
      },
      "source": [
        "import codecs\n",
        "import json\n",
        "\n",
        "def readFile(file):\n",
        "# Read as requeired format\n",
        "  dicts = []\n",
        "  with codecs.open(file, 'r', 'utf-8') as items:\n",
        "    for item in items:\n",
        "      item = item.strip()\n",
        "      dicts.append(json.loads(item))\n",
        "  return dicts"
      ],
      "execution_count": 0,
      "outputs": []
    },
    {
      "cell_type": "markdown",
      "metadata": {
        "id": "ewOA2oVkyY9D",
        "colab_type": "text"
      },
      "source": [
        "# 1.2 Format the Dataset"
      ]
    },
    {
      "cell_type": "markdown",
      "metadata": {
        "id": "z2O-FjSgPom-",
        "colab_type": "text"
      },
      "source": [
        "* Remove the irrelevant symbols\n",
        "* Intergrate the data"
      ]
    },
    {
      "cell_type": "code",
      "metadata": {
        "id": "hvB121xXxE-q",
        "colab_type": "code",
        "colab": {}
      },
      "source": [
        "def unzip(dicts):\n",
        "# Remove the irrelevant info\n",
        "  dictTran = []\n",
        "\n",
        "  for i in range(len(dicts)):\n",
        "    t3 = json.dumps(dicts[i]['meta']['term_of_imprisonment'])[1:]\n",
        "    del dicts[i][\"meta\"][\"term_of_imprisonment\"]\n",
        "    t2 = str(dicts[i]['meta']).replace('{','').replace('}',',')\n",
        "    t1 = \"{'fact':'\"+dicts[i]['fact'].replace(\"'\",'\"')+\"',\"\n",
        "    dictTran.append(eval(t1+t2+t3))\n",
        "\n",
        "  return dictTran"
      ],
      "execution_count": 0,
      "outputs": []
    },
    {
      "cell_type": "markdown",
      "metadata": {
        "id": "vMTpoKzAQDUL",
        "colab_type": "text"
      },
      "source": [
        "* Build the CSV File"
      ]
    },
    {
      "cell_type": "code",
      "metadata": {
        "id": "DM-9rsQehuwf",
        "colab_type": "code",
        "colab": {}
      },
      "source": [
        "import csv\n",
        "\n",
        "def buildCsv(headers,dictTran,filePath):\n",
        "# Write content to csv file\n",
        "# Headers: category name, dictTran: each line contents\n",
        "\n",
        "  with open(filePath,'w',newline='')as f:\n",
        "    fCsv = csv.DictWriter(f,headers) # write header\n",
        "    fCsv.writeheader()\n",
        "    fCsv.writerows(dictTran) # write content"
      ],
      "execution_count": 0,
      "outputs": []
    },
    {
      "cell_type": "markdown",
      "metadata": {
        "id": "TGLfC0YJB-al",
        "colab_type": "text"
      },
      "source": [
        "* Run Functions"
      ]
    },
    {
      "cell_type": "code",
      "metadata": {
        "id": "ooVjQ7Xk2XKx",
        "colab_type": "code",
        "colab": {}
      },
      "source": [
        "# File path\n",
        "fSource = '/content/drive/My Drive/WORKS/data/Dataset/data_'\n",
        "fTarget = '/content/drive/My Drive/WORKS/data/Dataset/'\n",
        "headers = ['fact','accusation','criminals','punish_of_money',\n",
        "    'relevant_articles','death_penalty','imprisonment','life_imprisonment']\n",
        "\n",
        "# Run the functions\n",
        "buildCsv(headers,unzip(readFile(fSource+'train.json')),(fTarget+'train.csv'))\n",
        "buildCsv(headers,unzip(readFile(fSource+'test.json')),(fTarget+'test.csv'))\n",
        "buildCsv(headers,unzip(readFile(fSource+'valid.json')),(fTarget+'valid.csv'))"
      ],
      "execution_count": 0,
      "outputs": []
    },
    {
      "cell_type": "markdown",
      "metadata": {
        "id": "JzUBt4HBgnUs",
        "colab_type": "text"
      },
      "source": [
        "## 1.3 Format Keywords"
      ]
    },
    {
      "cell_type": "code",
      "metadata": {
        "id": "m6MSqhQ7gkOf",
        "colab_type": "code",
        "colab": {}
      },
      "source": [
        "# Disposal keywords\n",
        "fLegalTerms = open(\"/content/drive/My Drive/WORKS/data/rawLegalTerms.txt\",\"r\")\n",
        "legalTerms = fLegalTerms.read()\n",
        "fLegalTerms.close() \n",
        "legalTerms=legalTerms.split('、')\n",
        "\n",
        "with open('/content/drive/My Drive/WORKS/data/LegalTerms.txt','w') as f: \n",
        "  for i in legalTerms:\n",
        "    f.write(i+\"\\n\")"
      ],
      "execution_count": 0,
      "outputs": []
    }
  ]
}