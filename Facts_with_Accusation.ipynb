{
  "nbformat": 4,
  "nbformat_minor": 0,
  "metadata": {
    "colab": {
      "name": "Facts_with_Accusation.ipynb",
      "provenance": [],
      "collapsed_sections": [],
      "toc_visible": true
    },
    "kernelspec": {
      "name": "python3",
      "display_name": "Python 3"
    }
  },
  "cells": [
    {
      "cell_type": "markdown",
      "metadata": {
        "id": "dL9_E1BwGU7N",
        "colab_type": "text"
      },
      "source": [
        "# Read the Data"
      ]
    },
    {
      "cell_type": "code",
      "metadata": {
        "id": "xEmGbLUqtTyc",
        "colab_type": "code",
        "colab": {}
      },
      "source": [
        "from google.colab import drive\n",
        "drive.mount('/content/drive')"
      ],
      "execution_count": 0,
      "outputs": []
    },
    {
      "cell_type": "code",
      "metadata": {
        "id": "KYese4tstUxp",
        "colab_type": "code",
        "colab": {}
      },
      "source": [
        "import pandas as pd\n",
        "import numpy as np"
      ],
      "execution_count": 0,
      "outputs": []
    },
    {
      "cell_type": "code",
      "metadata": {
        "id": "4uTo06YrtSWu",
        "colab_type": "code",
        "colab": {}
      },
      "source": [
        "train = pd.read_csv('/content/drive/My Drive/WORKS/data/Dataset/train.csv')\n",
        "test = pd.read_csv('/content/drive/My Drive/WORKS/data/Dataset/test.csv')\n",
        "valid = pd.read_csv('/content/drive/My Drive/WORKS/data/Dataset/valid.csv')"
      ],
      "execution_count": 0,
      "outputs": []
    },
    {
      "cell_type": "markdown",
      "metadata": {
        "id": "8UyxKbsIGY7z",
        "colab_type": "text"
      },
      "source": [
        "# Remove Irrelevant Words"
      ]
    },
    {
      "cell_type": "code",
      "metadata": {
        "id": "di2j0fX5vvJa",
        "colab_type": "code",
        "colab": {}
      },
      "source": [
        "# Split text by keywords and remove irrelvant words\n",
        "def cleanText(texts, stopwords):\n",
        "  newList = []\n",
        "\n",
        "  for doc in texts:\n",
        "    newList.append(\"\".join(\n",
        "        [token for token in doc if (token not in stopwords)]))  \n",
        "    \n",
        "  return newList"
      ],
      "execution_count": 0,
      "outputs": []
    },
    {
      "cell_type": "code",
      "metadata": {
        "id": "2g0VAK-6BoJV",
        "colab_type": "code",
        "colab": {}
      },
      "source": [
        "stopwords = \"【】'[]（）():;：；\"\n",
        "\n",
        "accTrain = cleanText(train.accusation, stopwords)\n",
        "accTest = cleanText(test.accusation, stopwords)\n",
        "accValid = cleanText(valid.accusation, stopwords)"
      ],
      "execution_count": 0,
      "outputs": []
    },
    {
      "cell_type": "markdown",
      "metadata": {
        "id": "KM9b95EFGvSM",
        "colab_type": "text"
      },
      "source": [
        "# Add Accusations to Fact"
      ]
    },
    {
      "cell_type": "code",
      "metadata": {
        "id": "S0aIsdgPtvn-",
        "colab_type": "code",
        "colab": {}
      },
      "source": [
        "def addAcc(texts,cleanedtAccText):\n",
        "  newList = []\n",
        "  for i in range(len(texts)):\n",
        "    newList.append(texts.fact[i] + ' 罪名是:' + cleanedtAccText[i] + '。')\n",
        "  return newList"
      ],
      "execution_count": 0,
      "outputs": []
    },
    {
      "cell_type": "code",
      "metadata": {
        "id": "_wgzyM1iCZSE",
        "colab_type": "code",
        "colab": {}
      },
      "source": [
        "factTrain = addAcc(train,accTrain)\n",
        "factTest = addAcc(test,accTest)\n",
        "factValid = addAcc(valid,accValid)"
      ],
      "execution_count": 0,
      "outputs": []
    },
    {
      "cell_type": "markdown",
      "metadata": {
        "id": "IWWx9lkRG5rJ",
        "colab_type": "text"
      },
      "source": [
        "# Save the Data"
      ]
    },
    {
      "cell_type": "code",
      "metadata": {
        "id": "3UBcgT7OtflG",
        "colab_type": "code",
        "colab": {}
      },
      "source": [
        "import csv\n",
        "\n",
        "def storeData(headers,d1,filePath):\n",
        "  f = open(filePath,'w',newline='',encoding=\"utf-8\")\n",
        "  fwrite = csv.writer(f) \n",
        "  fwrite.writerow(headers) # write column name\n",
        "\n",
        "  for item in d1:\n",
        "    fwrite.writerow([item]) # write content\n",
        "      \n",
        "  f.close()"
      ],
      "execution_count": 0,
      "outputs": []
    },
    {
      "cell_type": "code",
      "metadata": {
        "id": "0psH5Tltttrv",
        "colab_type": "code",
        "colab": {}
      },
      "source": [
        "path = '/content/drive/My Drive/WORKS/data/Method2/'\n",
        "\n",
        "storeData(['fact'],factTrain,(path+'factTrain.csv'))\n",
        "storeData(['fact'],factTest,(path+'factTest.csv'))\n",
        "storeData(['fact'],factValid,(path+'factValid.csv'))"
      ],
      "execution_count": 0,
      "outputs": []
    }
  ]
}