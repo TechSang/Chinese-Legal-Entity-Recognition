{
  "nbformat": 4,
  "nbformat_minor": 0,
  "metadata": {
    "colab": {
      "name": "Pretrained_Models.ipynb",
      "provenance": [],
      "collapsed_sections": [],
      "toc_visible": true,
      "machine_shape": "hm"
    },
    "kernelspec": {
      "name": "python3",
      "display_name": "Python 3"
    },
    "accelerator": "GPU"
  },
  "cells": [
    {
      "cell_type": "markdown",
      "metadata": {
        "id": "tuTm1gSgyJ7o",
        "colab_type": "text"
      },
      "source": [
        "# 4 Adjust data for different models"
      ]
    },
    {
      "cell_type": "code",
      "metadata": {
        "id": "k2lI7U7UBvce",
        "colab_type": "code",
        "colab": {}
      },
      "source": [
        "from google.colab import drive\n",
        "import pandas as pd\n",
        "import numpy as np\n",
        "drive.mount('/content/drive')"
      ],
      "execution_count": 0,
      "outputs": []
    },
    {
      "cell_type": "markdown",
      "metadata": {
        "id": "5e7MNeWpyR_c",
        "colab_type": "text"
      },
      "source": [
        "* Read the Dataset"
      ]
    },
    {
      "cell_type": "code",
      "metadata": {
        "id": "4OlpRmW9kr4S",
        "colab_type": "code",
        "colab": {}
      },
      "source": [
        "train = pd.read_csv('/content/drive/My Drive/WORKS/data/Method2/trainLabeled.csv')\n",
        "test = pd.read_csv('/content/drive/My Drive/WORKS/data/Method2/testLabeled.csv')\n",
        "valid = pd.read_csv('/content/drive/My Drive/WORKS/data/Method2/validLabeled.csv')"
      ],
      "execution_count": 0,
      "outputs": []
    },
    {
      "cell_type": "markdown",
      "metadata": {
        "id": "_-weflzpNX4I",
        "colab_type": "text"
      },
      "source": [
        "* Format data for differet usages"
      ]
    },
    {
      "cell_type": "code",
      "metadata": {
        "id": "5HATGYKuR9di",
        "colab_type": "code",
        "colab": {}
      },
      "source": [
        "def format(text):\n",
        "# Format data for differet usages\n",
        "  fact =[]\n",
        "  fact1 = []\n",
        "  label =[]\n",
        "  label2 = []\n",
        "\n",
        "  for i in range(len(text.Facts)):\n",
        "    if text.Facts[i] == '。':\n",
        "      fact1.append(text.Facts[i])\n",
        "      label2.append(text.Label[i]+',')\n",
        "      fact.append(fact1)\n",
        "      label.append(label2)\n",
        "      fact1 = []\n",
        "      label2 = []\n",
        "    else:\n",
        "      fact1.append(text.Facts[i])\n",
        "      label2.append(text.Label[i]+',')\n",
        "\n",
        "  return fact,label"
      ],
      "execution_count": 0,
      "outputs": []
    },
    {
      "cell_type": "markdown",
      "metadata": {
        "id": "4ww4Ai86Nfej",
        "colab_type": "text"
      },
      "source": [
        "* Backup"
      ]
    },
    {
      "cell_type": "code",
      "metadata": {
        "id": "mph5_SPZ9HKX",
        "colab_type": "code",
        "colab": {}
      },
      "source": [
        "import os\n",
        "\n",
        "def storage(fileName,data):\n",
        "# Store data\n",
        "  with open(fileName,\"w\") as f:\n",
        "    for i in data:\n",
        "      f.writelines(str(i))\n",
        "      f.writelines(\"\\n\")"
      ],
      "execution_count": 0,
      "outputs": []
    },
    {
      "cell_type": "markdown",
      "metadata": {
        "id": "PV6ofuJSNmdl",
        "colab_type": "text"
      },
      "source": [
        "* Run functions"
      ]
    },
    {
      "cell_type": "code",
      "metadata": {
        "id": "7bzc5R9RTqPz",
        "colab_type": "code",
        "colab": {}
      },
      "source": [
        "train_x,train_y=format(train)\n",
        "test_x,test_y=format(test)\n",
        "valid_x,valid_y=format(valid)"
      ],
      "execution_count": 0,
      "outputs": []
    },
    {
      "cell_type": "code",
      "metadata": {
        "id": "M29TAhSZ9K6T",
        "colab_type": "code",
        "colab": {}
      },
      "source": [
        "path = '/content/drive/My Drive/WORKS/data/Method2/test/'\n",
        "\n",
        "storage((path+'train_x.txt'),train_x)\n",
        "storage((path+'train_y.txt'),train_y)\n",
        "storage((path+'test_x.txt'),test_x)\n",
        "storage((path+'test_y.txt'),test_y)\n",
        "storage((path+'valid_x.txt'),valid_x)\n",
        "storage((path+'valid_y.txt'),valid_y)"
      ],
      "execution_count": 0,
      "outputs": []
    },
    {
      "cell_type": "markdown",
      "metadata": {
        "id": "-UJHkxgX9xGR",
        "colab_type": "text"
      },
      "source": [
        "# 5 Train Models"
      ]
    },
    {
      "cell_type": "code",
      "metadata": {
        "id": "9zNRTgSnlXf0",
        "colab_type": "code",
        "colab": {}
      },
      "source": [
        "pip uninstall tensorflow -y"
      ],
      "execution_count": 0,
      "outputs": []
    },
    {
      "cell_type": "code",
      "metadata": {
        "id": "poOmuaF4lZcb",
        "colab_type": "code",
        "colab": {}
      },
      "source": [
        "pip install tensorflow-gpu==1.14.0 "
      ],
      "execution_count": 0,
      "outputs": []
    },
    {
      "cell_type": "code",
      "metadata": {
        "id": "YE-iUCc-92yn",
        "colab_type": "code",
        "colab": {}
      },
      "source": [
        "pip install kashgari"
      ],
      "execution_count": 0,
      "outputs": []
    },
    {
      "cell_type": "markdown",
      "metadata": {
        "id": "vucxpWpcN5FA",
        "colab_type": "text"
      },
      "source": [
        "## 5.1 Read the Dataset"
      ]
    },
    {
      "cell_type": "code",
      "metadata": {
        "id": "dvA9_qNaowHE",
        "colab_type": "code",
        "colab": {}
      },
      "source": [
        "import os\n",
        "\n",
        "def readFile(fileName,type):\n",
        "# Read labeled data\n",
        "  text=[]\n",
        "\n",
        "  with open(path+fileName+\".txt\", 'r', encoding='utf-8') as f:\n",
        "    for line in f:\n",
        "      d=[]\n",
        "      sentence = line[:-1]\n",
        "      if type == 1:\n",
        "        for i in sentence:\n",
        "          d+=i\n",
        "      elif type == 0:\n",
        "        d = sentence.split(',')\n",
        "      text.append(d)\n",
        "  return text"
      ],
      "execution_count": 0,
      "outputs": []
    },
    {
      "cell_type": "code",
      "metadata": {
        "id": "Kvf4Lsu3QEYY",
        "colab_type": "code",
        "colab": {}
      },
      "source": [
        "path = '/content/drive/My Drive/WORKS/data/Method2/test/3/'\n",
        "\n",
        "train_x=readFile('train_x',1)\n",
        "train_y=readFile('train_y',0)\n",
        "valid_x=readFile('valid_x',1)\n",
        "valid_y=readFile('valid_y',0)\n",
        "test_x=readFile('test_x',1)\n",
        "test_y=readFile('test_y',0)"
      ],
      "execution_count": 0,
      "outputs": []
    },
    {
      "cell_type": "markdown",
      "metadata": {
        "id": "oxSf9cHWOOzN",
        "colab_type": "text"
      },
      "source": [
        "## 5.2.1 Bi-LSTM_CRF Model"
      ]
    },
    {
      "cell_type": "code",
      "metadata": {
        "id": "f38PDqSEOtOY",
        "colab_type": "code",
        "colab": {}
      },
      "source": [
        "from kashgari.tasks.labeling import BiLSTM_CRF_Model\n",
        "import kashgari\n",
        "\n",
        "kashgari.config.use_cudnn_cell = True\n",
        "LCModel = BiLSTM_CRF_Model()"
      ],
      "execution_count": 0,
      "outputs": []
    },
    {
      "cell_type": "code",
      "metadata": {
        "id": "PpBHWsep98lD",
        "colab_type": "code",
        "colab": {}
      },
      "source": [
        "historyBLSTM = LCModel.fit(train_x,train_y,\n",
        "          valid_x,valid_y,\n",
        "          batch_size=256,\n",
        "          epochs=8)\n",
        "\n",
        "LCModel.save('/content/drive/My Drive/WORKS/data/Method2/Out/BLSTMModel')"
      ],
      "execution_count": 0,
      "outputs": []
    },
    {
      "cell_type": "code",
      "metadata": {
        "id": "Xm9HN_LAbLMG",
        "colab_type": "code",
        "colab": {}
      },
      "source": [
        "LCModel.evaluate(test_x,test_y)"
      ],
      "execution_count": 0,
      "outputs": []
    },
    {
      "cell_type": "markdown",
      "metadata": {
        "id": "dU3-1vQ7OyTU",
        "colab_type": "text"
      },
      "source": [
        "## 5.2.2 CNN+Bi-LSTM_CRF Model\n",
        "\n"
      ]
    },
    {
      "cell_type": "code",
      "metadata": {
        "id": "BH_VYj2CJ5ca",
        "colab_type": "code",
        "colab": {}
      },
      "source": [
        "from kashgari.tasks.labeling import CNN_LSTM_Model\n",
        "import kashgari\n",
        "\n",
        "kashgari.config.use_cudnn_cell = True\n",
        "CLCModel = CNN_LSTM_Model()\n",
        "hyper = CLCModel.get_default_hyper_parameters()"
      ],
      "execution_count": 0,
      "outputs": []
    },
    {
      "cell_type": "code",
      "metadata": {
        "id": "anh_uz4iV4lG",
        "colab_type": "code",
        "colab": {}
      },
      "source": [
        "hyper['layer_conv']['filters'] = 256\n",
        "hyper['layer_conv']['kernel_size'] = 9"
      ],
      "execution_count": 0,
      "outputs": []
    },
    {
      "cell_type": "code",
      "metadata": {
        "id": "eVtmqQgynm8Q",
        "colab_type": "code",
        "colab": {}
      },
      "source": [
        "historyBLSTM = CLCModel.fit(train_x,train_y,\n",
        "          valid_x,valid_y,\n",
        "          batch_size=256,\n",
        "          epochs=8)\n",
        "\n",
        "CLCModel.save('/content/drive/My Drive/WORKS/data/Method2/Out/9-256CLCModel')"
      ],
      "execution_count": 0,
      "outputs": []
    },
    {
      "cell_type": "code",
      "metadata": {
        "id": "jV2TR5o26_U2",
        "colab_type": "code",
        "colab": {}
      },
      "source": [
        "CLCModel.evaluate(test_x,test_y)"
      ],
      "execution_count": 0,
      "outputs": []
    },
    {
      "cell_type": "markdown",
      "metadata": {
        "id": "UOhqiq6_rRyG",
        "colab_type": "text"
      },
      "source": [
        "## 5.3 Word2vec_LSTM_CRF Model"
      ]
    },
    {
      "cell_type": "markdown",
      "metadata": {
        "id": "Xi6sP-tPmkWH",
        "colab_type": "text"
      },
      "source": [
        "* sgns.target.word-word.dynwin5.thr10.neg5.dim300.iter5.bz2\n",
        "* sgns.target.word-character.char1-2.dynwin5.thr10.neg5.dim300.iter5.bz2\n",
        "* sgns.baidubaike.bigram-char.bz2\n",
        "* sgns.renmin.word.bz2"
      ]
    },
    {
      "cell_type": "code",
      "metadata": {
        "id": "9P1wqvTzbI61",
        "colab_type": "code",
        "colab": {}
      },
      "source": [
        "from kashgari.embeddings import WordEmbedding\n",
        "from kashgari.tasks.labeling import BiLSTM_CRF_Model\n",
        "import kashgari\n",
        "\n",
        "kashgari.config.use_cudnn_cell = True\n",
        "\n",
        "embedding = WordEmbedding('/content/drive/My Drive/WORKS/data/Pretrained_Model/sgns.target.word-word.dynwin5.thr10.neg5.dim300.iter5.bz2', \n",
        "                           task=kashgari.LABELING,\n",
        "                          sequence_length=128)"
      ],
      "execution_count": 0,
      "outputs": []
    },
    {
      "cell_type": "code",
      "metadata": {
        "id": "RXFqBiA97bX7",
        "colab_type": "code",
        "colab": {}
      },
      "source": [
        "w2vecModel = BiLSTM_CRF_Model(embedding)\n",
        "hyper = w2vecModel.get_default_hyper_parameters()"
      ],
      "execution_count": 0,
      "outputs": []
    },
    {
      "cell_type": "code",
      "metadata": {
        "id": "Vmj8xBhYp1oI",
        "colab_type": "code",
        "colab": {}
      },
      "source": [
        "historyWordvec = w2vecModel.fit(train_x,train_y,\n",
        "          valid_x,valid_y,\n",
        "          epochs=5,\n",
        "          batch_size=256)\n",
        "\n",
        "w2vecModel.save('/content/drive/My Drive/WORKS/data/Method2/Out/RenMinWord2vecBLSTMModel')"
      ],
      "execution_count": 0,
      "outputs": []
    },
    {
      "cell_type": "code",
      "metadata": {
        "id": "DcTrREbR6wFU",
        "colab_type": "code",
        "colab": {}
      },
      "source": [
        "w2vecModel.evaluate(test_x,test_y)"
      ],
      "execution_count": 0,
      "outputs": []
    },
    {
      "cell_type": "markdown",
      "metadata": {
        "id": "KkVEcArjq4ck",
        "colab_type": "text"
      },
      "source": [
        "## 5.4 Bert_LSTM_CRF Model"
      ]
    },
    {
      "cell_type": "markdown",
      "metadata": {
        "id": "RurqB5C9m-aa",
        "colab_type": "text"
      },
      "source": [
        "* chinese_rbt3_L-3_H-768_A-12\n",
        "* chinese_rbtl3_L-3_H-1024_A-16\n",
        "* chinese_L-12_H-768_A-12\n",
        "* bert_zh_L-12_H-768_A-12"
      ]
    },
    {
      "cell_type": "code",
      "metadata": {
        "id": "3VE1k4HJ9--S",
        "colab_type": "code",
        "colab": {}
      },
      "source": [
        "import kashgari\n",
        "from kashgari.embeddings import BERTEmbedding\n",
        "\n",
        "kashgari.config.use_cudnn_cell = True\n",
        "bert_embed = BERTEmbedding('/content/drive/My Drive/WORKS/data/Pretrained_Model/chinese_rbt3_L-3_H-768_A-12',\n",
        "                           task=kashgari.LABELING,\n",
        "                           sequence_length=128)"
      ],
      "execution_count": 0,
      "outputs": []
    },
    {
      "cell_type": "markdown",
      "metadata": {
        "id": "cA6kwHjbnfZ7",
        "colab_type": "text"
      },
      "source": [
        "* Divide train set to 100%, 67%, 50% to test"
      ]
    },
    {
      "cell_type": "code",
      "metadata": {
        "id": "4GdDS7y5yQ9j",
        "colab_type": "code",
        "colab": {}
      },
      "source": [
        "from sklearn.model_selection import train_test_split\n",
        "# split data into train and test sets\n",
        "\n",
        "seed = 42\n",
        "test_size = 0.33\n",
        "X_train,X_test,y_train,y_test = train_test_split(train_x,train_y,\n",
        "test_size=test_size,random_state=seed)"
      ],
      "execution_count": 0,
      "outputs": []
    },
    {
      "cell_type": "code",
      "metadata": {
        "id": "2gFgIoqxM5XH",
        "colab_type": "code",
        "colab": {}
      },
      "source": [
        "from kashgari.tasks.labeling import BiLSTM_CRF_Model\n",
        "\n",
        "bertModel = BiLSTM_CRF_Model(bert_embed)\n",
        "\n",
        "historyBert = bertModel.fit(train_x,train_y,\n",
        "          epochs=5,\n",
        "          batch_size=256)\n",
        "\n",
        "bertModel.save('/content/drive/My Drive/WORKS/data/Method2/Out/baserbt100BertBLSTMModel')"
      ],
      "execution_count": 0,
      "outputs": []
    },
    {
      "cell_type": "code",
      "metadata": {
        "id": "0DlO5BZDxwKX",
        "colab_type": "code",
        "colab": {}
      },
      "source": [
        "BertPath = '/content/drive/My Drive/WORKS/data/Method2/Out/baserbt50BertBLSTMModel'\n",
        "trained_model = kashgari.utils.load_model(BertPath)"
      ],
      "execution_count": 0,
      "outputs": []
    },
    {
      "cell_type": "code",
      "metadata": {
        "id": "4XItMnTcM6_l",
        "colab_type": "code",
        "colab": {}
      },
      "source": [
        "bertModel.evaluate(test_x,test_y)"
      ],
      "execution_count": 0,
      "outputs": []
    },
    {
      "cell_type": "markdown",
      "metadata": {
        "id": "E1z_f-gjek7P",
        "colab_type": "text"
      },
      "source": [
        "## 5.3 GPT2 LSTM CRF Model"
      ]
    },
    {
      "cell_type": "code",
      "metadata": {
        "id": "N4wXyZktfP9Z",
        "colab_type": "code",
        "colab": {}
      },
      "source": [
        "import kashgari\n",
        "from kashgari.embeddings import GPT2Embedding\n",
        "\n",
        "kashgari.config.use_cudnn_cell = True\n",
        "\n",
        "gpt_embed = GPT2Embedding('/content/drive/My Drive/WORKS/data/Pretrained_Model/model.ckpt-100000.data-00000-of-00001',\n",
        "                           task=kashgari.LABELING,\n",
        "                           sequence_length=100)"
      ],
      "execution_count": 0,
      "outputs": []
    },
    {
      "cell_type": "code",
      "metadata": {
        "id": "2rRVN1Obeog_",
        "colab_type": "code",
        "colab": {}
      },
      "source": [
        "from kashgari.tasks.labeling import BiLSTM_CRF_Model\n",
        "\n",
        "model = BiLSTM_CRF_Model(gpt_embed)\n",
        "\n",
        "historyGPT = model.fit(train_x,train_y,\n",
        "          valid_x,valid_y,\n",
        "          epochs=5,\n",
        "          batch_size=256)\n",
        "\n",
        "model.save('/content/drive/My Drive/WORKS/data/Method2/Out/GPT2BLSTMModel')"
      ],
      "execution_count": 0,
      "outputs": []
    },
    {
      "cell_type": "code",
      "metadata": {
        "id": "5JDgCRS-eps1",
        "colab_type": "code",
        "colab": {}
      },
      "source": [
        "history = model.evaluate(test_x,test_y)"
      ],
      "execution_count": 0,
      "outputs": []
    }
  ]
}